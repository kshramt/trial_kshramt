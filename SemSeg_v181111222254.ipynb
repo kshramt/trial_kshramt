{
 "cells": [
  {
   "cell_type": "code",
   "execution_count": 1,
   "metadata": {},
   "outputs": [],
   "source": [
    "%load_ext autoreload\n",
    "%autoreload 1"
   ]
  },
  {
   "cell_type": "code",
   "execution_count": 2,
   "metadata": {},
   "outputs": [],
   "source": [
    "import random\n",
    "\n",
    "from IPython.display import display\n",
    "import matplotlib.pyplot as plt\n",
    "import numpy as np\n",
    "import scipy as sp\n",
    "import pandas as pd\n",
    "import tensorflow as tf\n",
    "import PIL.Image"
   ]
  },
  {
   "cell_type": "code",
   "execution_count": 29,
   "metadata": {},
   "outputs": [],
   "source": [
    "IM_WIDTH = 90\n",
    "IM_HEIGHT = 90\n",
    "BOX_WIDTH = 10\n",
    "BOX_HEIGHT = 10\n",
    "MARGIN = 3\n",
    "N_CLASSES = 3\n",
    "N_CHANNELS = 3\n",
    "\n",
    "\n",
    "def make_batch_generator(g, n_batch):\n",
    "    assert n_batch > 0\n",
    "    while True:\n",
    "        Xs, ys = [], []\n",
    "        for _ in range(n_batch):\n",
    "            X, y = next(g)\n",
    "            Xs.append(X)\n",
    "            ys.append(y)\n",
    "        yield np.stack(Xs), np.stack(ys)\n",
    "\n",
    "\n",
    "def make_test_generator(seed, im_width, im_height, box_width, box_height, margin, n_classes):\n",
    "    assert im_width > 1, im_width\n",
    "    assert im_height > 1, im_height\n",
    "    rng = random.Random(seed)\n",
    "    w, h = (im_width - 1)//2, (im_height - 1)//2\n",
    "    imax = im_height - box_height\n",
    "    jmax = im_width - (box_width + margin + box_width)\n",
    "    while True:\n",
    "        while True:\n",
    "            i = rng.randint(0, imax - 1)\n",
    "            j = rng.randint(0, jmax - 1)\n",
    "            if not ((i <= h) and (j <= w)):\n",
    "                break\n",
    "        yield make_X_y(rng, i, j, im_width, im_height, box_width, box_height, margin, n_classes)\n",
    "\n",
    "\n",
    "def make_train_generator(seed, im_width, im_height, box_width, box_height, margin, n_classes):\n",
    "    assert im_width > 1, im_width\n",
    "    assert im_height > 1, im_height\n",
    "    rng = random.Random(seed)\n",
    "    w, h = (im_width - 1)//2, (im_height - 1)//2\n",
    "    imax = h - box_height\n",
    "    jmax = w - (box_width + margin + box_width)\n",
    "    while True:\n",
    "        i = rng.randint(0, imax - 1)\n",
    "        j = rng.randint(0, jmax - 1)\n",
    "        yield make_X_y(rng, i, j, im_width, im_height, box_width, box_height, margin, n_classes)\n",
    "\n",
    "\n",
    "def make_X_y(rng, i, j, im_width, im_height, box_width, box_height, margin, n_classes):\n",
    "    X = np.zeros((im_height, im_width, N_CHANNELS), dtype=np.float32)\n",
    "    switch = bool(rng.randint(0, 1))\n",
    "    X[:, :, 0] = 1\n",
    "    X[i:(i + box_height), j:(j + box_width), 0] = 0\n",
    "    X[i:(i + box_height), j:(j + box_width), 1] = 1\n",
    "    X[i:(i + box_height), (j + margin + box_width):(j + box_width + margin + box_width), 0] = 0\n",
    "    X[i:(i + box_height), (j + margin + box_width):(j + box_width + margin + box_width), 1 if switch else 2] = 1\n",
    "    # tf.keras.utils.to_categorical\n",
    "    y = np.zeros((im_height, im_width, n_classes), dtype=np.float32)\n",
    "    y[:, :, 0] = 1\n",
    "    y[i:(i + box_height), j:(j + box_width), 0] = 0\n",
    "    y[i:(i + box_height), j:(j + box_width), 1 if switch else 2] = 1\n",
    "    y[i:(i + box_height), (j + margin + box_width):(j + box_width + margin + box_width), 0] = 0\n",
    "    y[i:(i + box_height), (j + margin + box_width):(j + box_width + margin + box_width), 2] = 1\n",
    "    return X, y\n",
    "\n",
    "\n",
    "def model_of(im_width, im_height, n_classes, n_channels):\n",
    "    inputs = tf.keras.layers.Input(shape=(im_width, im_height, n_channels))\n",
    "    x = tf.keras.layers.Conv2D(32, kernel_size=(3, 3), activation=\"relu\", padding=\"same\")(inputs)\n",
    "    #x = tf.keras.layers.BatchNormalization()(x)\n",
    "    def inception(inputs):\n",
    "        long = 13\n",
    "        a = tf.keras.layers.Conv2D(32, kernel_size=(3, 3), activation=\"relu\", padding=\"same\")(inputs)\n",
    "        #return a\n",
    "        # Make the receptive field large!\n",
    "        b = tf.keras.layers.Conv2D(32, kernel_size=(5, 5), activation=\"relu\", padding=\"same\", dilation_rate=(6, 6))(inputs)\n",
    "        #b = tf.keras.layers.Conv2D(4, kernel_size=(long, 1), activation=\"relu\", padding=\"same\")(inputs)\n",
    "        #c = tf.keras.layers.Conv2D(4, kernel_size=(1, long), activation=\"relu\", padding=\"same\")(inputs)\n",
    "        x = tf.keras.layers.concatenate([a, b])\n",
    "        #x = tf.keras.layers.BatchNormalization()(x)\n",
    "        ##x = tf.keras.layers.Conv2D(64, kernel_size=(1, 1), activation=\"relu\", padding=\"same\")(x)\n",
    "        ##x = tf.keras.layers.BatchNormalization()(x)\n",
    "        return x\n",
    "        return tf.keras.layers.concatenate([x, inputs])\n",
    "        #return tf.keras.layers.concatenate([a, b, c])\n",
    "    x = inception(x)\n",
    "    x = inception(x)\n",
    "    x = inception(x)\n",
    "    x = inception(x)\n",
    "    x = tf.keras.layers.Conv2D(32, kernel_size=(3, 3), activation=\"relu\", padding=\"same\")(x)\n",
    "    #x = tf.keras.layers.BatchNormalization()(x)\n",
    "    outputs = tf.keras.layers.Conv2D(n_classes, kernel_size=(3, 3), activation=\"relu\", padding=\"same\")(x)\n",
    "    model = tf.keras.models.Model(inputs=inputs, outputs=outputs)\n",
    "    return model\n",
    "\n",
    "\n",
    "def softmax_cross_entropy_with_logits_v2(y_true, y_pred):\n",
    "    return tf.reduce_mean(tf.nn.softmax_cross_entropy_with_logits_v2(labels=y_true, logits=y_pred))\n",
    "\n",
    "\n",
    "def sofmax(X, axis=-1):\n",
    "    sp.misc.logsumexp(X, axis=-1)"
   ]
  },
  {
   "cell_type": "markdown",
   "metadata": {},
   "source": [
    "左：説明変数．右：目的変数．"
   ]
  },
  {
   "cell_type": "code",
   "execution_count": 30,
   "metadata": {},
   "outputs": [
    {
     "data": {
      "image/png": "[encoded data removed]",
      "text/plain": [
       "<PIL.Image.Image image mode=RGB size=180x90 at 0x7FF47C9EC860>"
      ]
     },
     "metadata": {},
     "output_type": "display_data"
    },
    {
     "data": {
      "image/png": "[encoded data removed]",
      "text/plain": [
       "<PIL.Image.Image image mode=RGB size=180x90 at 0x7FF47C9EC860>"
      ]
     },
     "metadata": {},
     "output_type": "display_data"
    },
    {
     "data": {
      "image/png": "[encoded data removed]",
      "text/plain": [
       "<PIL.Image.Image image mode=RGB size=180x90 at 0x7FF47C9EC898>"
      ]
     },
     "metadata": {},
     "output_type": "display_data"
    },
    {
     "data": {
      "image/png": "[encoded data removed]",
      "text/plain": [
       "<PIL.Image.Image image mode=RGB size=180x90 at 0x7FF47C9EC8D0>"
      ]
     },
     "metadata": {},
     "output_type": "display_data"
    },
    {
     "data": {
      "image/png": "[encoded data removed]",
      "text/plain": [
       "<PIL.Image.Image image mode=RGB size=180x90 at 0x7FF47C9EC828>"
      ]
     },
     "metadata": {},
     "output_type": "display_data"
    },
    {
     "data": {
      "image/png": "[encoded data removed]",
      "text/plain": [
       "<PIL.Image.Image image mode=RGB size=180x90 at 0x7FF47C9EC940>"
      ]
     },
     "metadata": {},
     "output_type": "display_data"
    },
    {
     "data": {
      "image/png": "[encoded data removed]",
      "text/plain": [
       "<PIL.Image.Image image mode=RGB size=180x90 at 0x7FF47C9EC978>"
      ]
     },
     "metadata": {},
     "output_type": "display_data"
    },
    {
     "data": {
      "image/png": "[encoded data removed]",
      "text/plain": [
       "<PIL.Image.Image image mode=RGB size=180x90 at 0x7FF47C9EC860>"
      ]
     },
     "metadata": {},
     "output_type": "display_data"
    }
   ],
   "source": [
    "def plot_train(n):\n",
    "    g = make_train_generator(42, IM_WIDTH, IM_HEIGHT, BOX_WIDTH, BOX_HEIGHT, MARGIN, N_CLASSES)\n",
    "    for _ in range(n):\n",
    "        X, y = next(g)\n",
    "        display(PIL.Image.fromarray((np.concatenate([X, y], axis=1)*255).astype(np.uint8)))\n",
    "plot_train(8)"
   ]
  },
  {
   "cell_type": "code",
   "execution_count": 31,
   "metadata": {},
   "outputs": [
    {
     "data": {
      "image/png": "[encoded data removed]",
      "text/plain": [
       "<PIL.Image.Image image mode=RGB size=180x90 at 0x7FF47C9EC710>"
      ]
     },
     "metadata": {},
     "output_type": "display_data"
    },
    {
     "data": {
      "image/png": "[encoded data removed]",
      "text/plain": [
       "<PIL.Image.Image image mode=RGB size=180x90 at 0x7FF47C9EC748>"
      ]
     },
     "metadata": {},
     "output_type": "display_data"
    },
    {
     "data": {
      "image/png": "[encoded data removed]",
      "text/plain": [
       "<PIL.Image.Image image mode=RGB size=180x90 at 0x7FF47C9EC828>"
      ]
     },
     "metadata": {},
     "output_type": "display_data"
    },
    {
     "data": {
      "image/png": "[encoded data removed]",
      "text/plain": [
       "<PIL.Image.Image image mode=RGB size=180x90 at 0x7FF47C9EC978>"
      ]
     },
     "metadata": {},
     "output_type": "display_data"
    },
    {
     "data": {
      "image/png": "[encoded data removed]",
      "text/plain": [
       "<PIL.Image.Image image mode=RGB size=180x90 at 0x7FF47C9EC9E8>"
      ]
     },
     "metadata": {},
     "output_type": "display_data"
    },
    {
     "data": {
      "image/png": "[encoded data removed]",
      "text/plain": [
       "<PIL.Image.Image image mode=RGB size=180x90 at 0x7FF47C9EC7B8>"
      ]
     },
     "metadata": {},
     "output_type": "display_data"
    },
    {
     "data": {
      "image/png": "[encoded data removed]",
      "text/plain": [
       "<PIL.Image.Image image mode=RGB size=180x90 at 0x7FF47C9EC710>"
      ]
     },
     "metadata": {},
     "output_type": "display_data"
    },
    {
     "data": {
      "image/png": "[encoded data removed]",
      "text/plain": [
       "<PIL.Image.Image image mode=RGB size=180x90 at 0x7FF47C9EC748>"
      ]
     },
     "metadata": {},
     "output_type": "display_data"
    }
   ],
   "source": [
    "def plot_test(n):\n",
    "    g = make_test_generator(42, IM_WIDTH, IM_HEIGHT, BOX_WIDTH, BOX_HEIGHT, MARGIN, N_CLASSES)\n",
    "    for _ in range(n):\n",
    "        X, y = next(g)\n",
    "        display(PIL.Image.fromarray((np.concatenate([X, y], axis=1)*255).astype(np.uint8)))\n",
    "plot_test(8)"
   ]
  },
  {
   "cell_type": "code",
   "execution_count": 32,
   "metadata": {},
   "outputs": [
    {
     "name": "stdout",
     "output_type": "stream",
     "text": [
      "Epoch 1/2\n",
      "64/64 [==============================] - 52s 808ms/step - loss: 0.1249 - acc: 0.9677 - val_loss: 0.0184 - val_acc: 0.9922\n",
      "Epoch 2/2\n",
      "64/64 [==============================] - 49s 758ms/step - loss: 0.0052 - acc: 0.9977 - val_loss: 6.9757e-04 - val_acc: 0.9998\n"
     ]
    },
    {
     "data": {
      "text/plain": [
       "<tensorflow.python.keras.callbacks.History at 0x7ff47caf0fd0>"
      ]
     },
     "execution_count": 32,
     "metadata": {},
     "output_type": "execute_result"
    }
   ],
   "source": [
    "n_batch = 4\n",
    "train_generator = make_batch_generator(make_train_generator(42, IM_WIDTH, IM_HEIGHT, BOX_WIDTH, BOX_HEIGHT, MARGIN, N_CLASSES), n_batch)\n",
    "dev_generator = make_batch_generator(make_test_generator(43, IM_WIDTH, IM_HEIGHT, BOX_WIDTH, BOX_HEIGHT, MARGIN, N_CLASSES), n_batch)\n",
    "test_generator = make_batch_generator(make_test_generator(44, IM_WIDTH, IM_HEIGHT, BOX_WIDTH, BOX_HEIGHT, MARGIN, N_CLASSES), 1)\n",
    "model = model_of(IM_WIDTH, IM_HEIGHT, N_CLASSES, N_CHANNELS)\n",
    "#model.compile(loss=softmax_cross_entropy_with_logits_v2, optimizer=tf.keras.optimizers.SGD(lr=0.1, momentum=0.9, decay=0.99), metrics=[\"accuracy\"])\n",
    "model.compile(loss=softmax_cross_entropy_with_logits_v2, optimizer=tf.keras.optimizers.Adam(), metrics=[\"accuracy\"])\n",
    "\n",
    "model.fit_generator(train_generator, steps_per_epoch=64, epochs=2, validation_data=dev_generator, validation_steps=10)"
   ]
  },
  {
   "cell_type": "markdown",
   "metadata": {},
   "source": [
    "左：予測．右：真値．"
   ]
  },
  {
   "cell_type": "code",
   "execution_count": 33,
   "metadata": {
    "scrolled": false
   },
   "outputs": [
    {
     "data": {
      "image/png": "[encoded data removed]",
      "text/plain": [
       "<PIL.Image.Image image mode=RGB size=180x90 at 0x7FF47537C908>"
      ]
     },
     "metadata": {},
     "output_type": "display_data"
    },
    {
     "data": {
      "image/png": "[encoded data removed]",
      "text/plain": [
       "<PIL.Image.Image image mode=RGB size=180x90 at 0x7FF47537C8D0>"
      ]
     },
     "metadata": {},
     "output_type": "display_data"
    },
    {
     "data": {
      "image/png": "[encoded data removed]",
      "text/plain": [
       "<PIL.Image.Image image mode=RGB size=180x90 at 0x7FF47537C898>"
      ]
     },
     "metadata": {},
     "output_type": "display_data"
    },
    {
     "data": {
      "image/png": "[encoded data removed]",
      "text/plain": [
       "<PIL.Image.Image image mode=RGB size=180x90 at 0x7FF47537C978>"
      ]
     },
     "metadata": {},
     "output_type": "display_data"
    },
    {
     "data": {
      "image/png": "[encoded data removed]",
      "text/plain": [
       "<PIL.Image.Image image mode=RGB size=180x90 at 0x7FF47537C898>"
      ]
     },
     "metadata": {},
     "output_type": "display_data"
    },
    {
     "data": {
      "image/png": "[encoded data removed]",
      "text/plain": [
       "<PIL.Image.Image image mode=RGB size=180x90 at 0x7FF47537C898>"
      ]
     },
     "metadata": {},
     "output_type": "display_data"
    },
    {
     "data": {
      "image/png": "[encoded data removed]",
      "text/plain": [
       "<PIL.Image.Image image mode=RGB size=180x90 at 0x7FF47537C898>"
      ]
     },
     "metadata": {},
     "output_type": "display_data"
    },
    {
     "data": {
      "image/png": "[encoded data removed]",
      "text/plain": [
       "<PIL.Image.Image image mode=RGB size=180x90 at 0x7FF47537C898>"
      ]
     },
     "metadata": {},
     "output_type": "display_data"
    },
    {
     "data": {
      "image/png": "[encoded data removed]",
      "text/plain": [
       "<PIL.Image.Image image mode=RGB size=180x90 at 0x7FF47537C898>"
      ]
     },
     "metadata": {},
     "output_type": "display_data"
    },
    {
     "data": {
      "image/png": "[encoded data removed]",
      "text/plain": [
       "<PIL.Image.Image image mode=RGB size=180x90 at 0x7FF47537C978>"
      ]
     },
     "metadata": {},
     "output_type": "display_data"
    },
    {
     "data": {
      "image/png": "[encoded data removed]",
      "text/plain": [
       "<PIL.Image.Image image mode=RGB size=180x90 at 0x7FF47537C978>"
      ]
     },
     "metadata": {},
     "output_type": "display_data"
    },
    {
     "data": {
      "image/png": "[encoded data removed]",
      "text/plain": [
       "<PIL.Image.Image image mode=RGB size=180x90 at 0x7FF47537C978>"
      ]
     },
     "metadata": {},
     "output_type": "display_data"
    },
    {
     "data": {
      "image/png": "[encoded data removed]",
      "text/plain": [
       "<PIL.Image.Image image mode=RGB size=180x90 at 0x7FF47537C978>"
      ]
     },
     "metadata": {},
     "output_type": "display_data"
    },
    {
     "data": {
      "image/png": "[encoded data removed]",
      "text/plain": [
       "<PIL.Image.Image image mode=RGB size=180x90 at 0x7FF47537C898>"
      ]
     },
     "metadata": {},
     "output_type": "display_data"
    },
    {
     "data": {
      "image/png": "[encoded data removed]",
      "text/plain": [
       "<PIL.Image.Image image mode=RGB size=180x90 at 0x7FF47537C978>"
      ]
     },
     "metadata": {},
     "output_type": "display_data"
    },
    {
     "data": {
      "image/png": "[encoded data removed]",
      "text/plain": [
       "<PIL.Image.Image image mode=RGB size=180x90 at 0x7FF47537C978>"
      ]
     },
     "metadata": {},
     "output_type": "display_data"
    },
    {
     "data": {
      "image/png": "[encoded data removed]",
      "text/plain": [
       "<PIL.Image.Image image mode=RGB size=180x90 at 0x7FF47537C898>"
      ]
     },
     "metadata": {},
     "output_type": "display_data"
    },
    {
     "data": {
      "image/png": "[encoded data removed]",
      "text/plain": [
       "<PIL.Image.Image image mode=RGB size=180x90 at 0x7FF47537C978>"
      ]
     },
     "metadata": {},
     "output_type": "display_data"
    },
    {
     "data": {
      "image/png": "[encoded data removed]",
      "text/plain": [
       "<PIL.Image.Image image mode=RGB size=180x90 at 0x7FF47537C898>"
      ]
     },
     "metadata": {},
     "output_type": "display_data"
    },
    {
     "data": {
      "image/png": "[encoded data removed]",
      "text/plain": [
       "<PIL.Image.Image image mode=RGB size=180x90 at 0x7FF47537C978>"
      ]
     },
     "metadata": {},
     "output_type": "display_data"
    },
    {
     "name": "stdout",
     "output_type": "stream",
     "text": [
      "--\n"
     ]
    },
    {
     "data": {
      "image/png": "[encoded data removed]",
      "text/plain": [
       "<PIL.Image.Image image mode=RGB size=180x90 at 0x7FF47537C978>"
      ]
     },
     "metadata": {},
     "output_type": "display_data"
    },
    {
     "data": {
      "image/png": "[encoded data removed]",
      "text/plain": [
       "<PIL.Image.Image image mode=RGB size=180x90 at 0x7FF47537C898>"
      ]
     },
     "metadata": {},
     "output_type": "display_data"
    },
    {
     "data": {
      "image/png": "[encoded data removed]",
      "text/plain": [
       "<PIL.Image.Image image mode=RGB size=180x90 at 0x7FF47537C978>"
      ]
     },
     "metadata": {},
     "output_type": "display_data"
    },
    {
     "data": {
      "image/png": "[encoded data removed]",
      "text/plain": [
       "<PIL.Image.Image image mode=RGB size=180x90 at 0x7FF47537C898>"
      ]
     },
     "metadata": {},
     "output_type": "display_data"
    },
    {
     "data": {
      "image/png": "[encoded data removed]",
      "text/plain": [
       "<PIL.Image.Image image mode=RGB size=180x90 at 0x7FF47537C978>"
      ]
     },
     "metadata": {},
     "output_type": "display_data"
    },
    {
     "data": {
      "image/png": "[encoded data removed]",
      "text/plain": [
       "<PIL.Image.Image image mode=RGB size=180x90 at 0x7FF47537C898>"
      ]
     },
     "metadata": {},
     "output_type": "display_data"
    },
    {
     "data": {
      "image/png": "[encoded data removed]",
      "text/plain": [
       "<PIL.Image.Image image mode=RGB size=180x90 at 0x7FF47537C898>"
      ]
     },
     "metadata": {},
     "output_type": "display_data"
    },
    {
     "data": {
      "image/png": "[encoded data removed]",
      "text/plain": [
       "<PIL.Image.Image image mode=RGB size=180x90 at 0x7FF47537C978>"
      ]
     },
     "metadata": {},
     "output_type": "display_data"
    },
    {
     "data": {
      "image/png": "[encoded data removed]",
      "text/plain": [
       "<PIL.Image.Image image mode=RGB size=180x90 at 0x7FF47537C898>"
      ]
     },
     "metadata": {},
     "output_type": "display_data"
    },
    {
     "data": {
      "image/png": "[encoded data removed]",
      "text/plain": [
       "<PIL.Image.Image image mode=RGB size=180x90 at 0x7FF47537C898>"
      ]
     },
     "metadata": {},
     "output_type": "display_data"
    },
    {
     "data": {
      "image/png": "[encoded data removed]",
      "text/plain": [
       "<PIL.Image.Image image mode=RGB size=180x90 at 0x7FF47537C978>"
      ]
     },
     "metadata": {},
     "output_type": "display_data"
    },
    {
     "data": {
      "image/png": "[encoded data removed]",
      "text/plain": [
       "<PIL.Image.Image image mode=RGB size=180x90 at 0x7FF47537C978>"
      ]
     },
     "metadata": {},
     "output_type": "display_data"
    },
    {
     "data": {
      "image/png": "[encoded data removed]",
      "text/plain": [
       "<PIL.Image.Image image mode=RGB size=180x90 at 0x7FF47537C898>"
      ]
     },
     "metadata": {},
     "output_type": "display_data"
    },
    {
     "data": {
      "image/png": "[encoded data removed]",
      "text/plain": [
       "<PIL.Image.Image image mode=RGB size=180x90 at 0x7FF47537C898>"
      ]
     },
     "metadata": {},
     "output_type": "display_data"
    },
    {
     "data": {
      "image/png": "[encoded data removed]",
      "text/plain": [
       "<PIL.Image.Image image mode=RGB size=180x90 at 0x7FF47537C898>"
      ]
     },
     "metadata": {},
     "output_type": "display_data"
    },
    {
     "data": {
      "image/png": "[encoded data removed]",
      "text/plain": [
       "<PIL.Image.Image image mode=RGB size=180x90 at 0x7FF47537C978>"
      ]
     },
     "metadata": {},
     "output_type": "display_data"
    },
    {
     "data": {
      "image/png": "[encoded data removed]",
      "text/plain": [
       "<PIL.Image.Image image mode=RGB size=180x90 at 0x7FF47537C898>"
      ]
     },
     "metadata": {},
     "output_type": "display_data"
    },
    {
     "data": {
      "image/png": "[encoded data removed]",
      "text/plain": [
       "<PIL.Image.Image image mode=RGB size=180x90 at 0x7FF47537C898>"
      ]
     },
     "metadata": {},
     "output_type": "display_data"
    },
    {
     "data": {
      "image/png": "[encoded data removed]",
      "text/plain": [
       "<PIL.Image.Image image mode=RGB size=180x90 at 0x7FF47537C898>"
      ]
     },
     "metadata": {},
     "output_type": "display_data"
    },
    {
     "data": {
      "image/png": "[encoded data removed]",
      "text/plain": [
       "<PIL.Image.Image image mode=RGB size=180x90 at 0x7FF47537C898>"
      ]
     },
     "metadata": {},
     "output_type": "display_data"
    }
   ],
   "source": [
    "def check(g):\n",
    "    X, y = next(g)\n",
    "    y_pred = model.predict(X[:1, ...])\n",
    "    display(PIL.Image.fromarray((255*np.exp(y_pred - sp.special.logsumexp(y_pred, axis=-1, keepdims=True))[0, ...]).astype(np.uint8)))\n",
    "    display(PIL.Image.fromarray((255*y[0, ...]).astype(np.uint8)))\n",
    "\n",
    "    \n",
    "def check(g):\n",
    "    X, y = next(g)\n",
    "    y_pred = model.predict(X[:1, ...])\n",
    "    aim_pred = (255*np.exp(y_pred - sp.special.logsumexp(y_pred, axis=-1, keepdims=True))[0, ...]).astype(np.uint8)\n",
    "    aim_true = (255*y[0, ...]).astype(np.uint8)\n",
    "    aim = np.concatenate([aim_pred, aim_true], axis=1)\n",
    "    display(PIL.Image.fromarray(aim))\n",
    "\n",
    "    \n",
    "for _ in range(20):\n",
    "    check(test_generator)\n",
    "print(\"--\")\n",
    "for _ in range(20):\n",
    "    check(train_generator)"
   ]
  },
  {
   "cell_type": "code",
   "execution_count": 34,
   "metadata": {},
   "outputs": [
    {
     "name": "stdout",
     "output_type": "stream",
     "text": [
      "__________________________________________________________________________________________________\n",
      "Layer (type)                    Output Shape         Param #     Connected to                     \n",
      "==================================================================================================\n",
      "input_6 (InputLayer)            (None, 90, 90, 3)    0                                            \n",
      "__________________________________________________________________________________________________\n",
      "conv2d_55 (Conv2D)              (None, 90, 90, 32)   896         input_6[0][0]                    \n",
      "__________________________________________________________________________________________________\n",
      "conv2d_56 (Conv2D)              (None, 90, 90, 32)   9248        conv2d_55[0][0]                  \n",
      "__________________________________________________________________________________________________\n",
      "conv2d_57 (Conv2D)              (None, 90, 90, 32)   25632       conv2d_55[0][0]                  \n",
      "__________________________________________________________________________________________________\n",
      "concatenate_40 (Concatenate)    (None, 90, 90, 64)   0           conv2d_56[0][0]                  \n",
      "                                                                 conv2d_57[0][0]                  \n",
      "__________________________________________________________________________________________________\n",
      "conv2d_58 (Conv2D)              (None, 90, 90, 32)   18464       concatenate_40[0][0]             \n",
      "__________________________________________________________________________________________________\n",
      "conv2d_59 (Conv2D)              (None, 90, 90, 32)   51232       concatenate_40[0][0]             \n",
      "__________________________________________________________________________________________________\n",
      "concatenate_41 (Concatenate)    (None, 90, 90, 64)   0           conv2d_58[0][0]                  \n",
      "                                                                 conv2d_59[0][0]                  \n",
      "__________________________________________________________________________________________________\n",
      "conv2d_60 (Conv2D)              (None, 90, 90, 32)   18464       concatenate_41[0][0]             \n",
      "__________________________________________________________________________________________________\n",
      "conv2d_61 (Conv2D)              (None, 90, 90, 32)   51232       concatenate_41[0][0]             \n",
      "__________________________________________________________________________________________________\n",
      "concatenate_42 (Concatenate)    (None, 90, 90, 64)   0           conv2d_60[0][0]                  \n",
      "                                                                 conv2d_61[0][0]                  \n",
      "__________________________________________________________________________________________________\n",
      "conv2d_62 (Conv2D)              (None, 90, 90, 32)   18464       concatenate_42[0][0]             \n",
      "__________________________________________________________________________________________________\n",
      "conv2d_63 (Conv2D)              (None, 90, 90, 32)   51232       concatenate_42[0][0]             \n",
      "__________________________________________________________________________________________________\n",
      "concatenate_43 (Concatenate)    (None, 90, 90, 64)   0           conv2d_62[0][0]                  \n",
      "                                                                 conv2d_63[0][0]                  \n",
      "__________________________________________________________________________________________________\n",
      "conv2d_64 (Conv2D)              (None, 90, 90, 32)   18464       concatenate_43[0][0]             \n",
      "__________________________________________________________________________________________________\n",
      "conv2d_65 (Conv2D)              (None, 90, 90, 3)    867         conv2d_64[0][0]                  \n",
      "==================================================================================================\n",
      "Total params: 264,195\n",
      "Trainable params: 264,195\n",
      "Non-trainable params: 0\n",
      "__________________________________________________________________________________________________\n"
     ]
    }
   ],
   "source": [
    "model.summary()"
   ]
  },
  {
   "cell_type": "code",
   "execution_count": 35,
   "metadata": {},
   "outputs": [
    {
     "data": {
      "text/plain": [
       "'1.11.0'"
      ]
     },
     "execution_count": 35,
     "metadata": {},
     "output_type": "execute_result"
    }
   ],
   "source": [
    "tf.__version__"
   ]
  }
 ],
 "metadata": {
  "kernelspec": {
   "display_name": "Python 3",
   "language": "python",
   "name": "python3"
  },
  "language_info": {
   "codemirror_mode": {
    "name": "ipython",
    "version": 3
   },
   "file_extension": ".py",
   "mimetype": "text/x-python",
   "name": "python",
   "nbconvert_exporter": "python",
   "pygments_lexer": "ipython3",
   "version": "3.6.6"
  }
 },
 "nbformat": 4,
 "nbformat_minor": 2
}
